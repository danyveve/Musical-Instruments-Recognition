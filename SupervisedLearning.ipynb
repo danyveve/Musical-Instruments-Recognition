{
  "nbformat": 4,
  "nbformat_minor": 0,
  "metadata": {
    "kernelspec": {
      "display_name": "Python 3",
      "language": "python",
      "name": "python3"
    },
    "language_info": {
      "codemirror_mode": {
        "name": "ipython",
        "version": 3
      },
      "file_extension": ".py",
      "mimetype": "text/x-python",
      "name": "python",
      "nbconvert_exporter": "python",
      "pygments_lexer": "ipython3",
      "version": "3.7.0"
    },
    "colab": {
      "name": "SupervisedLearning.ipynb",
      "provenance": [],
      "collapsed_sections": [],
      "toc_visible": true
    }
  },
  "cells": [
    {
      "cell_type": "code",
      "metadata": {
        "id": "k77A7Mz5K7Mf",
        "colab_type": "code",
        "colab": {}
      },
      "source": [
        "\n",
        "import pickle\n",
        "import numpy as np\n",
        "import pandas as pd\n",
        "from time import time\n",
        "from sklearn.metrics import confusion_matrix, classification_report\n",
        "from sklearn.utils.multiclass import unique_labels\n",
        "import matplotlib.pyplot as plt\n",
        "from sklearn.ensemble import RandomForestClassifier\n",
        "from sklearn.model_selection import RandomizedSearchCV\n",
        "from scipy.stats import randint as sp_randint\n",
        "\n",
        "from yellowbrick.model_selection import LearningCurve, learning_curve\n",
        "\n",
        "from yellowbrick.classifier import ClassificationReport\n"
      ],
      "execution_count": 0,
      "outputs": []
    },
    {
      "cell_type": "code",
      "metadata": {
        "id": "dopGyTorK7Mk",
        "colab_type": "code",
        "colab": {}
      },
      "source": [
        "with open('df_features_train.pickle', 'rb') as f:\n",
        "    df_train = pickle.load(f)"
      ],
      "execution_count": 0,
      "outputs": []
    },
    {
      "cell_type": "code",
      "metadata": {
        "id": "VpBFJiejK7Mq",
        "colab_type": "code",
        "colab": {}
      },
      "source": [
        "with open('df_features_test.pickle', 'rb') as f:\n",
        "    df_test = pickle.load(f)"
      ],
      "execution_count": 0,
      "outputs": []
    },
    {
      "cell_type": "code",
      "metadata": {
        "id": "Bb7ew4ueK7Mt",
        "colab_type": "code",
        "colab": {}
      },
      "source": [
        "#get training and testing data\n",
        "X_train = df_train.drop(labels=['targets'], axis=1)\n",
        "y_train = df_train['targets']\n",
        "\n",
        "X_test = df_test.drop(labels=['targets'], axis=1)\n",
        "y_test = df_test['targets']"
      ],
      "execution_count": 0,
      "outputs": []
    },
    {
      "cell_type": "code",
      "metadata": {
        "id": "w9JxsmmjmqDO",
        "colab_type": "code",
        "colab": {}
      },
      "source": [
        "def plot_confusion_matrix(y_true, y_pred, classes,\n",
        "                          normalize=False,\n",
        "                          title=None,\n",
        "                          cmap=plt.cm.Blues):\n",
        "    \"\"\"\n",
        "    This function prints and plots the confusion matrix.\n",
        "    Normalization can be applied by setting `normalize=True`.\n",
        "    \"\"\"\n",
        "    if not title:\n",
        "        if normalize:\n",
        "            title = 'Normalized confusion matrix'\n",
        "        else:\n",
        "            title = 'Confusion matrix, without normalization'\n",
        "\n",
        "    # Compute confusion matrix\n",
        "    cm = confusion_matrix(y_true, y_pred)\n",
        "    # Only use the labels that appear in the data\n",
        "    classes = classes[unique_labels(y_true, y_pred)]\n",
        "    if normalize:\n",
        "        cm = cm.astype('float') / cm.sum(axis=1)[:, np.newaxis]\n",
        "        print(\"Normalized confusion matrix\")\n",
        "    else:\n",
        "        print('Confusion matrix, without normalization')\n",
        "\n",
        "    #print(cm)\n",
        "\n",
        "    fig, ax = plt.subplots(figsize=(10,10))\n",
        "    ax.grid(False)\n",
        "    im = ax.imshow(cm, interpolation='nearest', cmap=cmap)\n",
        "    ax.figure.colorbar(im, ax=ax)\n",
        "    # We want to show all ticks...\n",
        "    ax.set(xticks=np.arange(cm.shape[1]),\n",
        "           yticks=np.arange(cm.shape[0]),\n",
        "           # ... and label them with the respective list entries\n",
        "           xticklabels=classes, yticklabels=classes,\n",
        "           title=title,\n",
        "           ylabel='True label',\n",
        "           xlabel='Predicted label')\n",
        "\n",
        "    # Rotate the tick labels and set their alignment.\n",
        "    plt.setp(ax.get_xticklabels(), rotation=45, ha=\"right\",\n",
        "             rotation_mode=\"anchor\")\n",
        "    \n",
        "    # Loop over data dimensions and create text annotations.\n",
        "    fmt = '.2f' if normalize else 'd'\n",
        "    thresh = cm.max() / 2.\n",
        "    for i in range(cm.shape[0]):\n",
        "        for j in range(cm.shape[1]):\n",
        "            ax.text(j, i, format(cm[i, j], fmt),\n",
        "                    ha=\"center\", va=\"center\",\n",
        "                    color=\"white\" if cm[i, j] > thresh else \"black\")\n",
        "    #fig.tight_layout()\n",
        "    return ax"
      ],
      "execution_count": 0,
      "outputs": []
    },
    {
      "cell_type": "code",
      "metadata": {
        "id": "N-rtWIELmzy0",
        "colab_type": "code",
        "colab": {}
      },
      "source": [
        "class_names=np.array(['bass', 'brass', 'flute', 'guitar', \n",
        "             'keyboard', 'mallet', 'organ', 'reed', \n",
        "             'string', 'synth_lead', 'vocal'])"
      ],
      "execution_count": 0,
      "outputs": []
    },
    {
      "cell_type": "markdown",
      "metadata": {
        "id": "PzweV8WoK7NB",
        "colab_type": "text"
      },
      "source": [
        "# Random Forests"
      ]
    },
    {
      "cell_type": "code",
      "metadata": {
        "id": "JFaY8IsxK7NB",
        "colab_type": "code",
        "colab": {}
      },
      "source": [
        "#instantiate the random forest\n",
        "clf_Rf =RandomForestClassifier(n_estimators=20, max_depth=50, warm_start=True)"
      ],
      "execution_count": 0,
      "outputs": []
    },
    {
      "cell_type": "code",
      "metadata": {
        "id": "lzU3YqyTK7NE",
        "colab_type": "code",
        "colab": {}
      },
      "source": [
        "clf_Rf.fit(X_train, y_train)"
      ],
      "execution_count": 0,
      "outputs": []
    },
    {
      "cell_type": "code",
      "metadata": {
        "id": "Xc-UyDh5MTRx",
        "colab_type": "code",
        "colab": {}
      },
      "source": [
        "visualizer = LearningCurve(clf_Rf, scoring='f1_weighted')\n",
        "visualizer.fit(X_train, y_train)\n",
        "visualizer.show(outpath=\"learningCurveRF.png\")"
      ],
      "execution_count": 0,
      "outputs": []
    },
    {
      "cell_type": "code",
      "metadata": {
        "id": "Ddj1hsE5K7NG",
        "colab_type": "code",
        "colab": {}
      },
      "source": [
        "y_pred_RF = clf_Rf.predict(X_test)"
      ],
      "execution_count": 0,
      "outputs": []
    },
    {
      "cell_type": "code",
      "metadata": {
        "id": "InFRx5ViK7NK",
        "colab_type": "code",
        "colab": {}
      },
      "source": [
        "plot_confusion_matrix(y_test, y_pred_RF, classes=class_names, normalize=True,\n",
        "                      title='Normalized confusion matrix for Random Forest')\n",
        "plt.savefig('confusionMatrixRFNormalized.png')\n",
        "plot_confusion_matrix(y_test, y_pred_RF, classes=class_names, normalize=False,\n",
        "                      title='Non-normalized confusion matrix for Random Forest')\n",
        "plt.savefig('confusionMatrixRFNonNormalized.png')"
      ],
      "execution_count": 0,
      "outputs": []
    },
    {
      "cell_type": "code",
      "metadata": {
        "id": "GdnGPCSoUXd-",
        "colab_type": "code",
        "colab": {}
      },
      "source": [
        "visualizer = ClassificationReport(clf_Rf, support=True)\n",
        "visualizer.score(X_test, y_test)  # Evaluate the model on the test data\n",
        "visualizer.show(outpath=\"classificationReportRF.png\") "
      ],
      "execution_count": 0,
      "outputs": []
    },
    {
      "cell_type": "code",
      "metadata": {
        "id": "aDM7L_VeK7NI",
        "colab_type": "code",
        "colab": {}
      },
      "source": [
        "accuracy_RF = np.mean(y_pred_RF == y_test)\n",
        "print(\"The accuracy of Random Forest is {0:.2%}\".format(accuracy_RF))"
      ],
      "execution_count": 0,
      "outputs": []
    },
    {
      "cell_type": "code",
      "metadata": {
        "colab_type": "code",
        "id": "xsIlKCqhlgO8",
        "colab": {}
      },
      "source": [
        "# pickle the trained model\n",
        "with open(\"model_RF.pickle\", mode='wb+') as file:\n",
        "    pickle.dump(clf_Rf, file)"
      ],
      "execution_count": 0,
      "outputs": []
    },
    {
      "cell_type": "markdown",
      "metadata": {
        "id": "fKeJtbfqK7NM",
        "colab_type": "text"
      },
      "source": [
        "## Grid Search"
      ]
    },
    {
      "cell_type": "code",
      "metadata": {
        "id": "U6ATFcQWK7NP",
        "colab_type": "code",
        "colab": {}
      },
      "source": [
        "param_dist = {\"n_estimators\" : [20, 40, 60, 80],\n",
        "              \"max_depth\": [10, 20, 30, 40],\n",
        "              \"max_features\": sp_randint(1, 11),\n",
        "              \"min_samples_split\": sp_randint(2, 11),\n",
        "              \"bootstrap\": [True, False],\n",
        "              \"criterion\": [\"gini\", \"entropy\"]}"
      ],
      "execution_count": 0,
      "outputs": []
    },
    {
      "cell_type": "code",
      "metadata": {
        "id": "o6Jec8i1K7NR",
        "colab_type": "code",
        "colab": {}
      },
      "source": [
        "#instantiate a new random forest\n",
        "clf_RF_CV=RandomForestClassifier()\n",
        "\n",
        "#set number of iterations\n",
        "n_iter_search = 20\n",
        "#creat the random search class\n",
        "random_search_RF = RandomizedSearchCV(clf_RF_CV, param_distributions=param_dist,\n",
        "                                      n_iter=n_iter_search, cv=5)"
      ],
      "execution_count": 0,
      "outputs": []
    },
    {
      "cell_type": "code",
      "metadata": {
        "id": "Z4sxhMrUmjDq",
        "colab_type": "code",
        "colab": {}
      },
      "source": [
        "random_search_RF.fit(X_train, y_train)"
      ],
      "execution_count": 0,
      "outputs": []
    },
    {
      "cell_type": "code",
      "metadata": {
        "id": "8mdEcbLuK7NU",
        "colab_type": "code",
        "colab": {}
      },
      "source": [
        "y_pred_RF_random = random_search_RF.predict(X_test)"
      ],
      "execution_count": 0,
      "outputs": []
    },
    {
      "cell_type": "code",
      "metadata": {
        "id": "1lxDuekPK7NW",
        "colab_type": "code",
        "colab": {}
      },
      "source": [
        "plot_confusion_matrix(y_test, y_pred_RF_random, classes=class_names, normalize=True,\n",
        "                      title='Normalized confusion matrix for Random Forest After Randomized Search')\n",
        "plt.savefig('confusionMatrixRandomSearchRFNormalized.png')\n",
        "plot_confusion_matrix(y_test, y_pred_RF_random, classes=class_names, normalize=False,\n",
        "                      title='Non-normalized confusion matrix for Random Forest After Randomized Search')\n",
        "plt.savefig('confusionMatrixRandomSearchRFNonNormalized.png')"
      ],
      "execution_count": 0,
      "outputs": []
    },
    {
      "cell_type": "code",
      "metadata": {
        "id": "Y1MLawbgK7NZ",
        "colab_type": "code",
        "colab": {}
      },
      "source": [
        "random_search_RF.best_estimator_"
      ],
      "execution_count": 0,
      "outputs": []
    },
    {
      "cell_type": "code",
      "metadata": {
        "colab_type": "code",
        "id": "F6DTyXENnChb",
        "colab": {}
      },
      "source": [
        "visualizer = ClassificationReport(random_search_RF, support=True)\n",
        "visualizer.score(X_test, y_test)  # Evaluate the model on the test data\n",
        "visualizer.show(outpath=\"classificationReportRandomSearchRF.png\") "
      ],
      "execution_count": 0,
      "outputs": []
    },
    {
      "cell_type": "code",
      "metadata": {
        "id": "8DBXlmBbmuHF",
        "colab_type": "code",
        "colab": {}
      },
      "source": [
        "accuracy_RF_random = np.mean(y_pred_RF_random == y_test)\n",
        "print(\"The accuracy of Random Forest is {0:.2%}\".format(accuracy_RF_random))"
      ],
      "execution_count": 0,
      "outputs": []
    },
    {
      "cell_type": "code",
      "metadata": {
        "id": "pfLhJRRPK7Nb",
        "colab_type": "code",
        "colab": {}
      },
      "source": [
        "# pickle the trained model\n",
        "with open(\"model_random_search_RF.pickle\", mode='wb+') as file:\n",
        "    pickle.dump(random_search_RF, file)"
      ],
      "execution_count": 0,
      "outputs": []
    },
    {
      "cell_type": "code",
      "metadata": {
        "colab_type": "code",
        "id": "JbTWjYqimYGL",
        "colab": {}
      },
      "source": [
        "visualizer = LearningCurve(random_search_RF, scoring='f1_weighted')\n",
        "visualizer.fit(X_train, y_train)\n",
        "visualizer.show(outpath=\"learningCurveRandomSearchRF.png\")"
      ],
      "execution_count": 0,
      "outputs": []
    }
  ]
}